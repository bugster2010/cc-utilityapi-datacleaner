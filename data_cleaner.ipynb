{
 "cells": [
  {
   "cell_type": "markdown",
   "id": "e6b13410-90b5-4086-ace0-1e56a88d326f",
   "metadata": {},
   "source": [
    "### Data cleaner project for Clean Coalition\n",
    "```\n",
    "tyler@clean-coalition.org\n",
    "Tyler Lewis\n",
    "February 2023\n",
    "```\n"
   ]
  },
  {
   "cell_type": "code",
   "execution_count": 4,
   "id": "41d76e8a-1a54-43bc-b6b9-5b294abf3f20",
   "metadata": {
    "tags": []
   },
   "outputs": [],
   "source": [
    "read_filename = './AACI_Health_Center_raw_data.csv'\n",
    "write_filename = './data_cleaned.csv'"
   ]
  },
  {
   "cell_type": "code",
   "execution_count": 5,
   "id": "da80d8e5-377b-4e04-8d1a-de4a7038e8fd",
   "metadata": {},
   "outputs": [],
   "source": [
    "import math\n",
    "import random\n",
    "import numpy as np\n",
    "import matplotlib.pyplot as plt\n",
    "from matplotlib.dates import DateFormatter\n",
    "%matplotlib inline\n",
    "import csv\n",
    "import pandas as pd\n",
    "from datetime import datetime\n",
    "from datetime import timedelta\n",
    "\n",
    "# 1 week of 15 min interval\n",
    "entries_per_week = 672 \n",
    "\n",
    "# open dataframe using @pandas\n",
    "df = pd.read_csv(read_filename) "
   ]
  },
  {
   "cell_type": "code",
   "execution_count": 6,
   "id": "71300ffa-b840-4056-97c1-987559f6bc29",
   "metadata": {},
   "outputs": [],
   "source": [
    "def to_datetime(date_string):\n",
    "    \"\"\"\n",
    "    Converts a string to a datetime object.\n",
    "\n",
    "    Parameters:\n",
    "        date_string (str): A string representing a date and time in UtilityAPI format.\n",
    "\n",
    "    Returns:\n",
    "        datetime: A datetime object representing the input date and time.\n",
    "    \"\"\"\n",
    "    date_obj = datetime.strptime(date_string, '%m/%d/%Y %H:%M')\n",
    "    return date_obj"
   ]
  },
  {
   "cell_type": "code",
   "execution_count": 24,
   "id": "24662148-7349-4a72-972f-6e92d0b62043",
   "metadata": {},
   "outputs": [],
   "source": [
    "# df = pd.read_csv(read_filename, index_col='interval_start', parse_dates=True)\n",
    "\n",
    "# # Clean up the data if necessary\n",
    "# df = df.dropna() # Remove any missing values\n",
    "\n",
    "# # Resample the data into daily intervals\n",
    "# daily_data = df.resample('D').sum()\n",
    "\n",
    "# # Create a line plot of the daily data\n",
    "# fig, ax = plt.subplots()\n",
    "# ax.plot(daily_data.index, daily_data['net_kWh'])\n",
    "# ax.set_xlabel('Time')\n",
    "# ax.set_ylabel('Net Energy Usage (kWh)')\n",
    "# ax.set_title('Residential Energy Usage - Daily')\n",
    "\n",
    "# # Modify the format of the x-axis labels\n",
    "# date_form = DateFormatter('%m-%d')\n",
    "# ax.xaxis.set_major_formatter(date_form)"
   ]
  },
  {
   "cell_type": "code",
   "execution_count": 22,
   "id": "9206df8d-cca0-4920-9438-c4bc3b86d003",
   "metadata": {},
   "outputs": [],
   "source": [
    "plt.show()"
   ]
  },
  {
   "cell_type": "markdown",
   "id": "84bedd0f-a679-4e3d-b5b7-989626f8cd7a",
   "metadata": {},
   "source": [
    "The code here simply needs to \n",
    "- fetch data from exactly 1 week prior to the lapse in data, for 5 cycles (75 minutes, 4500 seconds)\n",
    "- write 5 rows in every 'else' instance"
   ]
  },
  {
   "cell_type": "code",
   "execution_count": 21,
   "id": "585cedd2-ff39-4a10-9c0e-86fff2d8e926",
   "metadata": {},
   "outputs": [],
   "source": [
    "def finddirtyrows(df):\n",
    "    values=[]\n",
    "    for ind in df.index:\n",
    "        # Store variables for current index of dataframe\n",
    "        interval_start = to_datetime(df['interval_start'][ind])\n",
    "        interval_end = to_datetime(df['interval_end'][ind])\n",
    "        _timedelta = interval_end - interval_start\n",
    "        \n",
    "        if (_timedelta != timedelta(minutes = 15)):\n",
    "            # improper entry\n",
    "            values.append(ind)\n",
    "\n",
    "    print(values)"
   ]
  },
  {
   "cell_type": "code",
   "execution_count": 22,
   "id": "460762e1-1de1-44d3-b50a-c60bb341078e",
   "metadata": {},
   "outputs": [
    {
     "name": "stdout",
     "output_type": "stream",
     "text": [
      "[28304, 63240, 98848]\n"
     ]
    }
   ],
   "source": [
    "finddirtyrows(df)"
   ]
  },
  {
   "cell_type": "code",
   "execution_count": 23,
   "id": "a805ffac-7ec7-4864-993f-3bea154dea86",
   "metadata": {
    "scrolled": true,
    "tags": []
   },
   "outputs": [],
   "source": [
    "def writecleandata(csvwriter, df):\n",
    "    # a={}\n",
    "    for ind in df.index:\n",
    "        # Store variables for current index of dataframe\n",
    "        interval_start = to_datetime(df['interval_start'][ind])\n",
    "        interval_end = to_datetime(df['interval_end'][ind])\n",
    "        _timedelta = interval_end - interval_start\n",
    "        \n",
    "        if (_timedelta == timedelta(minutes = 15)):\n",
    "            # proper entry, no modification need\n",
    "            csvwriter.writerow(df.iloc[ind])\n",
    "        else:\n",
    "            # There is data missing in this set at the current index\n",
    "            # Will copy usage data from week prior for most-accurate fix\n",
    "            \n",
    "            copy_index = ind - entries_per_week\n",
    "            ph_interval_end = interval_end\n",
    "            \n",
    "            while (ph_interval_end - interval_start >= timedelta(minutes = 15)):\n",
    "                copy_curr = df.iloc[copy_index].copy()\n",
    "                copy_curr.interval_end = ph_interval_end\n",
    "                copy_curr.interval_start = ph_interval_end - timedelta(minutes = 15)\n",
    "                \n",
    "                csvwriter.writerow(copy_curr)\n",
    "                \n",
    "                ph_interval_end = ph_interval_end - timedelta(minutes = 15)\n",
    "\n",
    "    print('complete')\n",
    "    "
   ]
  },
  {
   "cell_type": "markdown",
   "id": "be522be2-5656-4455-bb95-05e81674ed59",
   "metadata": {},
   "source": [
    "#### In case of incorrect entry:\n",
    "1. Create placeholder interval_end object, set to current interval_end\n",
    "2. Insert record into csv with interval_start = interval_end - 15 minutes\n",
    "3. set interval_end to interval_start and repeat step 2\n",
    "4. loop steps 2/3 until interval_start = original_interval_start"
   ]
  },
  {
   "cell_type": "code",
   "execution_count": 14,
   "id": "b160e764-871e-4c3b-af3b-c4a4e29a593e",
   "metadata": {},
   "outputs": [],
   "source": [
    "def start():\n",
    "    with open(write_filename, 'w', newline='') as csvfile: \n",
    "\n",
    "        # creating a csv writer object @csv\n",
    "        csvwriter = csv.writer(csvfile) \n",
    "\n",
    "        # writing the column headers for write file @csv\n",
    "        csvwriter.writerow(df.columns.values) \n",
    "\n",
    "        # writing the data rows \n",
    "        writecleandata(csvwriter, df)"
   ]
  },
  {
   "cell_type": "code",
   "execution_count": 25,
   "id": "c49a2fed-b75d-441b-bc06-513a384b1332",
   "metadata": {},
   "outputs": [
    {
     "name": "stdout",
     "output_type": "stream",
     "text": [
      "complete\n"
     ]
    }
   ],
   "source": [
    "start()"
   ]
  },
  {
   "cell_type": "markdown",
   "id": "6ad3aa33-f2d9-41fc-8ef2-94f0f689e01a",
   "metadata": {},
   "source": [
    "# End "
   ]
  },
  {
   "cell_type": "markdown",
   "id": "a321bef2-0451-4755-86bd-c2645867070c",
   "metadata": {},
   "source": [
    "print(df.columns.values)"
   ]
  },
  {
   "cell_type": "code",
   "execution_count": 8,
   "id": "337a1ed7",
   "metadata": {},
   "outputs": [
    {
     "name": "stdout",
     "output_type": "stream",
     "text": [
      "meter_uid                                               1201327\n",
      "utility                                                      hi\n",
      "utility_service_id                                   2887177833\n",
      "utility_service_address    2400 MOORPARK AVE SAN JOSE, CA 95128\n",
      "utility_meter_number                                 1010786945\n",
      "utility_tariff_name                                       HB19S\n",
      "interval_start                                 01/01/2023 23:45\n",
      "interval_end                                   01/02/2023 00:00\n",
      "interval_kWh                                               18.4\n",
      "fwd_kWh                                                     NaN\n",
      "max_kW                                                     73.6\n",
      "net_kWh                                                    18.4\n",
      "rev_kWh                                                     NaN\n",
      "source                                                      NaN\n",
      "updated                                                     NaN\n",
      "interval_timezone                                    US/Pacific\n",
      "Name: 0, dtype: object\n"
     ]
    },
    {
     "name": "stderr",
     "output_type": "stream",
     "text": [
      "C:\\Users\\tyler\\AppData\\Local\\Temp\\ipykernel_20704\\677083167.py:2: SettingWithCopyWarning: \n",
      "A value is trying to be set on a copy of a slice from a DataFrame\n",
      "\n",
      "See the caveats in the documentation: https://pandas.pydata.org/pandas-docs/stable/user_guide/indexing.html#returning-a-view-versus-a-copy\n",
      "  obj.utility = 'hi'\n"
     ]
    }
   ],
   "source": [
    "obj = df.iloc[0]\n",
    "obj.utility = 'hi'\n",
    "print(obj)"
   ]
  },
  {
   "cell_type": "code",
   "execution_count": 21,
   "id": "b095718f-5061-4a17-b29c-2deebc563e04",
   "metadata": {},
   "outputs": [
    {
     "name": "stdout",
     "output_type": "stream",
     "text": [
      "1.0\n"
     ]
    }
   ],
   "source": [
    "ind = 0\n",
    "_timedelta = to_datetime(df['interval_end'][ind]) - to_datetime(df['interval_start'][ind])\n",
    "print(_timedelta/timedelta(minutes = 15))\n",
    "# for i in range(_timedelta/timedelta(minutes = 15)):\n",
    "#                 print(i)"
   ]
  }
 ],
 "metadata": {
  "kernelspec": {
   "display_name": "Python 3 (ipykernel)",
   "language": "python",
   "name": "python3"
  },
  "language_info": {
   "codemirror_mode": {
    "name": "ipython",
    "version": 3
   },
   "file_extension": ".py",
   "mimetype": "text/x-python",
   "name": "python",
   "nbconvert_exporter": "python",
   "pygments_lexer": "ipython3",
   "version": "3.9.13"
  }
 },
 "nbformat": 4,
 "nbformat_minor": 5
}
