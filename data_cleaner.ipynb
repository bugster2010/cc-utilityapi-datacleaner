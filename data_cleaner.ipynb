{
 "cells": [
  {
   "cell_type": "markdown",
   "id": "e6b13410-90b5-4086-ace0-1e56a88d326f",
   "metadata": {},
   "source": [
    "### Data cleaner project for Clean Coalition\n",
    "```\n",
    "tyler@clean-coalition.org\n",
    "Tyler Lewis\n",
    "February 2023\n",
    "```\n"
   ]
  },
  {
   "cell_type": "code",
   "execution_count": null,
   "id": "41d76e8a-1a54-43bc-b6b9-5b294abf3f20",
   "metadata": {
    "tags": []
   },
   "outputs": [
    {
     "ename": "",
     "evalue": "",
     "output_type": "error",
     "traceback": [
      "\u001b[1;31mFailed to start the Kernel. \n",
      "\u001b[1;31mJupyter server crashed. Unable to connect. \n",
      "\u001b[1;31mError code from Jupyter: 1\n",
      "\u001b[1;31musage: jupyter.py [-h] [--version] [--config-dir] [--data-dir] [--runtime-dir]\n",
      "\u001b[1;31m                  [--paths] [--json] [--debug]\n",
      "\u001b[1;31m                  [subcommand]\n",
      "\u001b[1;31m\n",
      "\u001b[1;31mJupyter: Interactive Computing\n",
      "\u001b[1;31m\n",
      "\u001b[1;31mpositional arguments:\n",
      "\u001b[1;31m  subcommand     the subcommand to launch\n",
      "\u001b[1;31m\n",
      "\u001b[1;31moptional arguments:\n",
      "\u001b[1;31m  -h, --help     show this help message and exit\n",
      "\u001b[1;31m  --version      show the versions of core jupyter packages and exit\n",
      "\u001b[1;31m  --config-dir   show Jupyter config dir\n",
      "\u001b[1;31m  --data-dir     show Jupyter data dir\n",
      "\u001b[1;31m  --runtime-dir  show Jupyter runtime dir\n",
      "\u001b[1;31m  --paths        show all Jupyter paths. Add --json for machine-readable\n",
      "\u001b[1;31m                 format.\n",
      "\u001b[1;31m  --json         output paths as machine-readable json\n",
      "\u001b[1;31m  --debug        output debug information about paths\n",
      "\u001b[1;31m\n",
      "\u001b[1;31mAvailable subcommands:\n",
      "\u001b[1;31m\n",
      "\u001b[1;31mJupyter command `jupyter-notebook` not found. \n",
      "\u001b[1;31mView Jupyter <a href='command:jupyter.viewOutput'>log</a> for further details."
     ]
    }
   ],
   "source": [
    "read_filename = './AACI_Health_Center_raw_data.csv'\n",
    "write_filename = './data_cleaned.csv'"
   ]
  },
  {
   "cell_type": "code",
   "execution_count": 2,
   "id": "da80d8e5-377b-4e04-8d1a-de4a7038e8fd",
   "metadata": {},
   "outputs": [
    {
     "ename": "NameError",
     "evalue": "name 'read_filename' is not defined",
     "output_type": "error",
     "traceback": [
      "\u001b[1;31m---------------------------------------------------------------------------\u001b[0m",
      "\u001b[1;31mNameError\u001b[0m                                 Traceback (most recent call last)",
      "\u001b[1;32m~\\AppData\\Local\\Temp\\ipykernel_10732\\3770151457.py\u001b[0m in \u001b[0;36m<module>\u001b[1;34m\u001b[0m\n\u001b[0;32m     14\u001b[0m \u001b[1;33m\u001b[0m\u001b[0m\n\u001b[0;32m     15\u001b[0m \u001b[1;31m# open dataframe using @pandas\u001b[0m\u001b[1;33m\u001b[0m\u001b[1;33m\u001b[0m\u001b[0m\n\u001b[1;32m---> 16\u001b[1;33m \u001b[0mdf\u001b[0m \u001b[1;33m=\u001b[0m \u001b[0mpd\u001b[0m\u001b[1;33m.\u001b[0m\u001b[0mread_csv\u001b[0m\u001b[1;33m(\u001b[0m\u001b[0mread_filename\u001b[0m\u001b[1;33m)\u001b[0m\u001b[1;33m\u001b[0m\u001b[1;33m\u001b[0m\u001b[0m\n\u001b[0m",
      "\u001b[1;31mNameError\u001b[0m: name 'read_filename' is not defined"
     ]
    }
   ],
   "source": [
    "import math\n",
    "import random\n",
    "import numpy as np\n",
    "import matplotlib.pyplot as plt\n",
    "from matplotlib.dates import DateFormatter\n",
    "%matplotlib inline\n",
    "import csv\n",
    "import pandas as pd\n",
    "from datetime import datetime\n",
    "from datetime import timedelta\n",
    "\n",
    "# 1 week of 15 min interval\n",
    "entries_per_week = 672 \n",
    "\n",
    "# open dataframe using @pandas\n",
    "df = pd.read_csv(read_filename) "
   ]
  },
  {
   "cell_type": "code",
   "execution_count": 6,
   "id": "71300ffa-b840-4056-97c1-987559f6bc29",
   "metadata": {},
   "outputs": [],
   "source": [
    "def to_datetime(date_string):\n",
    "    \"\"\"\n",
    "    Converts a string to a datetime object.\n",
    "\n",
    "    Parameters:\n",
    "        date_string (str): A string representing a date and time in UtilityAPI format.\n",
    "\n",
    "    Returns:\n",
    "        datetime: A datetime object representing the input date and time.\n",
    "    \"\"\"\n",
    "    date_obj = datetime.strptime(date_string, '%m/%d/%Y %H:%M')\n",
    "    return date_obj"
   ]
  },
  {
   "cell_type": "markdown",
   "id": "84bedd0f-a679-4e3d-b5b7-989626f8cd7a",
   "metadata": {},
   "source": [
    "The code here simply: \n",
    "- fetches data from exactly 1 week prior to the lapse in data, for N rows \n",
    "- write N rows in every 'else' instance\n",
    "\n",
    "(N = TΔ / 15min)"
   ]
  },
  {
   "cell_type": "code",
   "execution_count": 21,
   "id": "585cedd2-ff39-4a10-9c0e-86fff2d8e926",
   "metadata": {},
   "outputs": [],
   "source": [
    "def finddirtyrows(df):\n",
    "    values=[]\n",
    "    for ind in df.index:\n",
    "        # Store variables for current index of dataframe\n",
    "        interval_start = to_datetime(df['interval_start'][ind])\n",
    "        interval_end = to_datetime(df['interval_end'][ind])\n",
    "        _timedelta = interval_end - interval_start\n",
    "        \n",
    "        if (_timedelta != timedelta(minutes = 15)):\n",
    "            # improper entry\n",
    "            values.append(ind)\n",
    "\n",
    "    print(values)"
   ]
  },
  {
   "cell_type": "code",
   "execution_count": 22,
   "id": "460762e1-1de1-44d3-b50a-c60bb341078e",
   "metadata": {},
   "outputs": [
    {
     "name": "stdout",
     "output_type": "stream",
     "text": [
      "[28304, 63240, 98848]\n"
     ]
    }
   ],
   "source": [
    "finddirtyrows(df)"
   ]
  },
  {
   "cell_type": "code",
   "execution_count": 23,
   "id": "a805ffac-7ec7-4864-993f-3bea154dea86",
   "metadata": {
    "scrolled": true,
    "tags": []
   },
   "outputs": [],
   "source": [
    "def writecleandata(csvwriter, df):\n",
    "    # a={}\n",
    "    for ind in df.index:\n",
    "        # Store variables for current index of dataframe\n",
    "        interval_start = to_datetime(df['interval_start'][ind])\n",
    "        interval_end = to_datetime(df['interval_end'][ind])\n",
    "        _timedelta = interval_end - interval_start\n",
    "        \n",
    "        if (_timedelta == timedelta(minutes = 15)):\n",
    "            # proper entry, no modification need\n",
    "            csvwriter.writerow(df.iloc[ind])\n",
    "        else:\n",
    "            # There is data missing in this set at the current index\n",
    "            # Will copy usage data from week prior for most-accurate fix\n",
    "            \n",
    "            copy_index = ind - entries_per_week\n",
    "            ph_interval_end = interval_end\n",
    "            \n",
    "            while (ph_interval_end - interval_start >= timedelta(minutes = 15)):\n",
    "                copy_curr = df.iloc[copy_index].copy()\n",
    "                copy_curr.interval_end = ph_interval_end\n",
    "                copy_curr.interval_start = ph_interval_end - timedelta(minutes = 15)\n",
    "                \n",
    "                csvwriter.writerow(copy_curr)\n",
    "                \n",
    "                ph_interval_end = ph_interval_end - timedelta(minutes = 15)\n",
    "\n",
    "    print('complete')\n",
    "    "
   ]
  },
  {
   "cell_type": "markdown",
   "id": "be522be2-5656-4455-bb95-05e81674ed59",
   "metadata": {},
   "source": [
    "#### In case of incorrect entry:\n",
    "1. Create placeholder interval_end object, set to current interval_end\n",
    "2. Insert record into csv with interval_start = interval_end - 15 minutes\n",
    "3. set interval_end to interval_start and repeat step 2\n",
    "4. loop steps 2/3 until interval_start = original_interval_start"
   ]
  },
  {
   "cell_type": "code",
   "execution_count": 14,
   "id": "b160e764-871e-4c3b-af3b-c4a4e29a593e",
   "metadata": {},
   "outputs": [],
   "source": [
    "def start():\n",
    "    with open(write_filename, 'w', newline='') as csvfile: \n",
    "\n",
    "        # creating a csv writer object @csv\n",
    "        csvwriter = csv.writer(csvfile) \n",
    "\n",
    "        # write the column headers for write file @csv\n",
    "        csvwriter.writerow(df.columns.values) \n",
    "\n",
    "        # write data  \n",
    "        writecleandata(csvwriter, df)"
   ]
  },
  {
   "cell_type": "code",
   "execution_count": 25,
   "id": "c49a2fed-b75d-441b-bc06-513a384b1332",
   "metadata": {},
   "outputs": [
    {
     "name": "stdout",
     "output_type": "stream",
     "text": [
      "complete\n"
     ]
    }
   ],
   "source": [
    "start()"
   ]
  },
  {
   "cell_type": "markdown",
   "id": "6ad3aa33-f2d9-41fc-8ef2-94f0f689e01a",
   "metadata": {},
   "source": [
    "# End "
   ]
  },
  {
   "cell_type": "markdown",
   "id": "a321bef2-0451-4755-86bd-c2645867070c",
   "metadata": {},
   "source": [
    "print(df.columns.values)"
   ]
  },
  {
   "cell_type": "code",
   "execution_count": 8,
   "id": "337a1ed7",
   "metadata": {},
   "outputs": [
    {
     "name": "stdout",
     "output_type": "stream",
     "text": [
      "meter_uid                                               1201327\n",
      "utility                                                      hi\n",
      "utility_service_id                                   2887177833\n",
      "utility_service_address    2400 MOORPARK AVE SAN JOSE, CA 95128\n",
      "utility_meter_number                                 1010786945\n",
      "utility_tariff_name                                       HB19S\n",
      "interval_start                                 01/01/2023 23:45\n",
      "interval_end                                   01/02/2023 00:00\n",
      "interval_kWh                                               18.4\n",
      "fwd_kWh                                                     NaN\n",
      "max_kW                                                     73.6\n",
      "net_kWh                                                    18.4\n",
      "rev_kWh                                                     NaN\n",
      "source                                                      NaN\n",
      "updated                                                     NaN\n",
      "interval_timezone                                    US/Pacific\n",
      "Name: 0, dtype: object\n"
     ]
    },
    {
     "name": "stderr",
     "output_type": "stream",
     "text": [
      "C:\\Users\\tyler\\AppData\\Local\\Temp\\ipykernel_20704\\677083167.py:2: SettingWithCopyWarning: \n",
      "A value is trying to be set on a copy of a slice from a DataFrame\n",
      "\n",
      "See the caveats in the documentation: https://pandas.pydata.org/pandas-docs/stable/user_guide/indexing.html#returning-a-view-versus-a-copy\n",
      "  obj.utility = 'hi'\n"
     ]
    }
   ],
   "source": [
    "obj = df.iloc[0]\n",
    "obj.utility = 'hi'\n",
    "print(obj)"
   ]
  },
  {
   "cell_type": "code",
   "execution_count": 21,
   "id": "b095718f-5061-4a17-b29c-2deebc563e04",
   "metadata": {},
   "outputs": [
    {
     "name": "stdout",
     "output_type": "stream",
     "text": [
      "1.0\n"
     ]
    }
   ],
   "source": [
    "ind = 0\n",
    "_timedelta = to_datetime(df['interval_end'][ind]) - to_datetime(df['interval_start'][ind])\n",
    "print(_timedelta/timedelta(minutes = 15))\n",
    "# for i in range(_timedelta/timedelta(minutes = 15)):\n",
    "#                 print(i)"
   ]
  }
 ],
 "metadata": {
  "kernelspec": {
   "display_name": "Python 3",
   "language": "python",
   "name": "python3"
  },
  "language_info": {
   "codemirror_mode": {
    "name": "ipython",
    "version": 3
   },
   "file_extension": ".py",
   "mimetype": "text/x-python",
   "name": "python",
   "nbconvert_exporter": "python",
   "pygments_lexer": "ipython3",
   "version": "3.9.6"
  },
  "vscode": {
   "interpreter": {
    "hash": "31f2aee4e71d21fbe5cf8b01ff0e069b9275f58929596ceb00d14d90e3e16cd6"
   }
  }
 },
 "nbformat": 4,
 "nbformat_minor": 5
}
